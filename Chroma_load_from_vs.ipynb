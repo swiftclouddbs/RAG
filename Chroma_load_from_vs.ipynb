{
 "cells": [
  {
   "cell_type": "code",
   "execution_count": null,
   "id": "54059f0c-33a9-43d2-8a13-c0f7b0aed04c",
   "metadata": {},
   "outputs": [],
   "source": [
    "#https://python.langchain.com/v0.2/docs/integrations/retrievers/self_query/chroma_self_query/"
   ]
  },
  {
   "cell_type": "code",
   "execution_count": null,
   "id": "612ac0c4-bc42-4bf9-833f-26cbacce0008",
   "metadata": {},
   "outputs": [],
   "source": [
    "#Loads doc stored using Chroma_store_doc_in_vs.ipynb\n",
    "#We want to integrate llm with this, so we need a retirever"
   ]
  },
  {
   "cell_type": "code",
   "execution_count": 57,
   "id": "0611af80-e704-48b5-936c-b9164da15ea5",
   "metadata": {},
   "outputs": [],
   "source": [
    "# import\n",
    "from langchain_chroma import Chroma\n",
    "#from langchain_community.document_loaders import TextLoader\n",
    "from langchain_community.embeddings.sentence_transformer import (\n",
    "    SentenceTransformerEmbeddings,\n",
    ")\n",
    "#from langchain_text_splitters import CharacterTextSplitter"
   ]
  },
  {
   "cell_type": "code",
   "execution_count": 63,
   "id": "274c5c5c-5a4f-4600-9489-f1721b9d977b",
   "metadata": {},
   "outputs": [
    {
     "data": {
      "text/plain": [
       "[Document(metadata={'source': 'raw_texts/LOIC-1848.txt'}, page_content='TO THE\\n\\nMOST SACRED VIRGIN MARY\\n\\nOF MOUNT CARMEL,\\n\\nMOTHER OF OUR LORD JESUS CHRIST, QUEEN OF\\nHEAVEN AND EARTH\\n\\nMOST GLORIOUS QUEEN,\\n\\nYou have been proclaimed by a beautiful modern writer, “Eldest Daughter of the Church, Queen of heaven and earth, and the ﬁrst of all the Saints, who shine resplendent like a brilliant lamp above all the choirs of the heavenly Jerusalem.”'),\n",
       " Document(metadata={'source': 'raw_texts/LOIC-1848.txt'}, page_content='With these extracts we shall close; however, as to the power of theBlessed Virgin, the translator begs to quote the following short passages :—“Wherefore,” Saint Anselm saith, (Lib. de Excel. Virg.,) “there is no doubt but the Blessed Virgin Mary, by maternal right, is with Christ President of heaven and earth. St. John Damascene, Orat. 2, de Assump. says—“It is ﬁtting and convenient that Mary should possess what is her Son’s;” and Barbertu assures us that she is able to obtain more than all the angels and saints in heaven, and more than all the Church throughout the whole world. Lastly, this is the doctrine of St. Jerome, explicated by St. Bernard, Tom. Serm. Art. Cap. 10; and another great servant of our Lady says, that “all the virtues and graces of the Holy Spirit are given through her, as she wishes, as much as she wishes, and when she wishes.”'),\n",
       " Document(metadata={'source': 'raw_texts/LOIC-1848.txt'}, page_content='HOLY MARY, Mother ofGod, and Most Sacred Virgin, I (here mention your name,) take you and choose you this day for my mother, my patron, my mistress, and my advocate: proposing and protesting never to leave your service and your love, or to do or permit anything contrary to your honour, be seeching you also, from the bottom of my heart, that you may deign to receive me as your servant, and to assist me in all my actions, and at the hour of my death.\\nAmen.\\n\\n\\nA PRAYER TO BE RECITED ON THE FEASTS OF THE BLESSED VIRGIN.'),\n",
       " Document(metadata={'source': 'raw_texts/LOIC-1848.txt'}, page_content='V. God has elected and predestined her in a most singular manner.\\nR. And has made her to dwell in his tabernacle with distinction.\\nV. Holy Virgin, support before God my most humble prayer.\\nR. And let my supplication come unto you.\\n\\nLET US PRAY\\n\\nHAIL, Mary, Queen of the Heavens, Mother of our Lord Jesus Christ, and Sovereign Lady of the world, who neither reject or forsake those who have recourse to you! Vouchsafe, my dear mother, to look upon me with an eye of pity and Compassion. Obtain for me of your beloved Son the pardon of all my sins, that I, who now honour with the devout affection of my whole heart YOUR HOLY AND IMMACULATE CONCEPTION, may attain hereafter to eternal happiness, through the Mercy of Him whom you (a virgin) did bring forth, JESUS CHRIST, our Lord, who lives and reigns with the Father and the Holy Ghost, one God in perfect Divine Trinity, world without end. Amen.')]"
      ]
     },
     "execution_count": 63,
     "metadata": {},
     "output_type": "execute_result"
    }
   ],
   "source": [
    "embedding_function = SentenceTransformerEmbeddings(model_name=\"all-MiniLM-L6-v2\")\n",
    "\n",
    "# load from disk/ids db on disk\n",
    "db3 = Chroma(persist_directory=\"./chroma_basic_db\", embedding_function=embedding_function)\n",
    "\n",
    "\n",
    "# query it\n",
    "# query = \"What does the document say about Achaz\"\n",
    "# docs = db3.similarity_search(query)\n",
    "# print(docs[0].page_content)\n",
    "\n",
    "vectorstore.as_retriever().invoke(\"Carmel\")"
   ]
  },
  {
   "cell_type": "code",
   "execution_count": null,
   "id": "360093e1-a759-4ecd-9e8a-20418c8dfe28",
   "metadata": {},
   "outputs": [],
   "source": []
  },
  {
   "cell_type": "code",
   "execution_count": null,
   "id": "0a6430a0-adc5-4bb2-86ee-d43a45babfb5",
   "metadata": {},
   "outputs": [],
   "source": []
  }
 ],
 "metadata": {
  "kernelspec": {
   "display_name": "Python 3 (ipykernel)",
   "language": "python",
   "name": "python3"
  },
  "language_info": {
   "codemirror_mode": {
    "name": "ipython",
    "version": 3
   },
   "file_extension": ".py",
   "mimetype": "text/x-python",
   "name": "python",
   "nbconvert_exporter": "python",
   "pygments_lexer": "ipython3",
   "version": "3.12.1"
  }
 },
 "nbformat": 4,
 "nbformat_minor": 5
}
