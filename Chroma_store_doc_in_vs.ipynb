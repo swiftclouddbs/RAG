{
 "cells": [
  {
   "cell_type": "code",
   "execution_count": 1,
   "id": "9b52bb0b-8e07-47e9-a6d2-7e9d048f101f",
   "metadata": {},
   "outputs": [],
   "source": [
    "#https://python.langchain.com/v0.1/docs/integrations/vectorstores/chroma/"
   ]
  },
  {
   "cell_type": "code",
   "execution_count": 2,
   "id": "f135b80d-2ce4-4997-8efa-39287f4247b8",
   "metadata": {},
   "outputs": [
    {
     "name": "stderr",
     "output_type": "stream",
     "text": [
      "Created a chunk of size 1163, which is longer than the specified 1000\n",
      "Created a chunk of size 1372, which is longer than the specified 1000\n",
      "Created a chunk of size 1029, which is longer than the specified 1000\n",
      "Created a chunk of size 1118, which is longer than the specified 1000\n",
      "Created a chunk of size 1512, which is longer than the specified 1000\n",
      "Created a chunk of size 1250, which is longer than the specified 1000\n",
      "Created a chunk of size 1008, which is longer than the specified 1000\n",
      "Created a chunk of size 1203, which is longer than the specified 1000\n",
      "Created a chunk of size 1149, which is longer than the specified 1000\n",
      "Created a chunk of size 1235, which is longer than the specified 1000\n",
      "Created a chunk of size 1048, which is longer than the specified 1000\n",
      "Created a chunk of size 2106, which is longer than the specified 1000\n",
      "Created a chunk of size 1498, which is longer than the specified 1000\n",
      "Created a chunk of size 1027, which is longer than the specified 1000\n",
      "/Library/Frameworks/Python.framework/Versions/3.12/lib/python3.12/site-packages/langchain_core/_api/deprecation.py:139: LangChainDeprecationWarning: The class `HuggingFaceEmbeddings` was deprecated in LangChain 0.2.2 and will be removed in 0.3.0. An updated version of the class exists in the langchain-huggingface package and should be used instead. To use it run `pip install -U langchain-huggingface` and import as `from langchain_huggingface import HuggingFaceEmbeddings`.\n",
      "  warn_deprecated(\n",
      "/Library/Frameworks/Python.framework/Versions/3.12/lib/python3.12/site-packages/sentence_transformers/cross_encoder/CrossEncoder.py:11: TqdmExperimentalWarning: Using `tqdm.autonotebook.tqdm` in notebook mode. Use `tqdm.tqdm` instead to force console mode (e.g. in jupyter console)\n",
      "  from tqdm.autonotebook import tqdm, trange\n"
     ]
    },
    {
     "name": "stdout",
     "output_type": "stream",
     "text": [
      "With these extracts we shall close; however, as to the power of theBlessed Virgin, the translator begs to quote the following short passages :—“Wherefore,” Saint Anselm saith, (Lib. de Excel. Virg.,) “there is no doubt but the Blessed Virgin Mary, by maternal right, is with Christ President of heaven and earth. St. John Damascene, Orat. 2, de Assump. says—“It is ﬁtting and convenient that Mary should possess what is her Son’s;” and Barbertu assures us that she is able to obtain more than all the angels and saints in heaven, and more than all the Church throughout the whole world. Lastly, this is the doctrine of St. Jerome, explicated by St. Bernard, Tom. Serm. Art. Cap. 10; and another great servant of our Lady says, that “all the virtues and graces of the Holy Spirit are given through her, as she wishes, as much as she wishes, and when she wishes.”\n"
     ]
    }
   ],
   "source": [
    "# import\n",
    "from langchain_chroma import Chroma\n",
    "from langchain_community.document_loaders import TextLoader\n",
    "from langchain_community.embeddings.sentence_transformer import (\n",
    "    SentenceTransformerEmbeddings,\n",
    ")\n",
    "from langchain_text_splitters import CharacterTextSplitter\n",
    "\n",
    "# load the document and split it into chunks\n",
    "loader = TextLoader(\"raw_texts/LOIC-1848.txt\")\n",
    "documents = loader.load()\n",
    "\n",
    "# split it into chunks\n",
    "text_splitter = CharacterTextSplitter(chunk_size=1000, chunk_overlap=0)\n",
    "docs = text_splitter.split_documents(documents)\n",
    "\n",
    "# create the open-source embedding function\n",
    "embedding_function = SentenceTransformerEmbeddings(model_name=\"all-MiniLM-L6-v2\")\n",
    "\n",
    "# load it into Chroma\n",
    "db = Chroma.from_documents(docs, embedding_function)\n",
    "\n",
    "# query it\n",
    "query = \"What does the document say about Mary\"\n",
    "docs = db.similarity_search(query)\n",
    "\n",
    "# print results\n",
    "print(docs[0].page_content)"
   ]
  },
  {
   "cell_type": "code",
   "execution_count": 3,
   "id": "2aeac89c-9aea-4458-a240-b9a306a79c6f",
   "metadata": {},
   "outputs": [],
   "source": [
    "# save to disk\n",
    "db2 = Chroma.from_documents(docs, embedding_function, persist_directory=\"./chroma_basic_db\")\n",
    "docs = db2.similarity_search(query)"
   ]
  },
  {
   "cell_type": "code",
   "execution_count": 4,
   "id": "019c9f95-aa06-4bfc-a8a4-18e641050479",
   "metadata": {},
   "outputs": [
    {
     "name": "stdout",
     "output_type": "stream",
     "text": [
      "With these extracts we shall close; however, as to the power of theBlessed Virgin, the translator begs to quote the following short passages :—“Wherefore,” Saint Anselm saith, (Lib. de Excel. Virg.,) “there is no doubt but the Blessed Virgin Mary, by maternal right, is with Christ President of heaven and earth. St. John Damascene, Orat. 2, de Assump. says—“It is ﬁtting and convenient that Mary should possess what is her Son’s;” and Barbertu assures us that she is able to obtain more than all the angels and saints in heaven, and more than all the Church throughout the whole world. Lastly, this is the doctrine of St. Jerome, explicated by St. Bernard, Tom. Serm. Art. Cap. 10; and another great servant of our Lady says, that “all the virtues and graces of the Holy Spirit are given through her, as she wishes, as much as she wishes, and when she wishes.”\n"
     ]
    }
   ],
   "source": [
    "# load from disk\n",
    "db3 = Chroma(persist_directory=\"./chroma_basic_db\", embedding_function=embedding_function)\n",
    "docs = db3.similarity_search(query)\n",
    "print(docs[0].page_content)"
   ]
  },
  {
   "cell_type": "code",
   "execution_count": null,
   "id": "f2269fba-94cd-46c5-b90c-5e62929d0a54",
   "metadata": {},
   "outputs": [],
   "source": []
  }
 ],
 "metadata": {
  "kernelspec": {
   "display_name": "Python 3 (ipykernel)",
   "language": "python",
   "name": "python3"
  },
  "language_info": {
   "codemirror_mode": {
    "name": "ipython",
    "version": 3
   },
   "file_extension": ".py",
   "mimetype": "text/x-python",
   "name": "python",
   "nbconvert_exporter": "python",
   "pygments_lexer": "ipython3",
   "version": "3.12.1"
  }
 },
 "nbformat": 4,
 "nbformat_minor": 5
}
