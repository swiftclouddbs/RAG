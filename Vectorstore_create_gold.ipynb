{
 "cells": [
  {
   "cell_type": "code",
   "execution_count": 1,
   "id": "53c6c325-b4e3-4d27-a274-24cd8002f702",
   "metadata": {},
   "outputs": [
    {
     "name": "stderr",
     "output_type": "stream",
     "text": [
      "C:\\Users\\srstuartii\\AppData\\Local\\Temp\\ipykernel_9248\\2419666777.py:15: LangChainDeprecationWarning: The class `Chroma` was deprecated in LangChain 0.2.9 and will be removed in 1.0. An updated version of the class exists in the :class:`~langchain-chroma package and should be used instead. To use it run `pip install -U :class:`~langchain-chroma` and import as `from :class:`~langchain_chroma import Chroma``.\n",
      "  chroma_store = Chroma(\n",
      "C:\\Users\\srstuartii\\AppData\\Local\\Programs\\Python\\Python312\\Lib\\site-packages\\onnxruntime\\capi\\onnxruntime_validation.py:26: UserWarning: Unsupported Windows version (2016server). ONNX Runtime supports Windows 10 and above, only.\n",
      "  warnings.warn(\n"
     ]
    },
    {
     "name": "stdout",
     "output_type": "stream",
     "text": [
      "PDF content successfully loaded into Chroma vector store.\n"
     ]
    },
    {
     "name": "stderr",
     "output_type": "stream",
     "text": [
      "C:\\Users\\srstuartii\\AppData\\Local\\Temp\\ipykernel_9248\\2419666777.py:36: LangChainDeprecationWarning: Since Chroma 0.4.x the manual persistence method is no longer supported as docs are automatically persisted.\n",
      "  chroma_store.persist()\n"
     ]
    }
   ],
   "source": [
    "from langchain.vectorstores import Chroma\n",
    "from langchain_nomic.embeddings import NomicEmbeddings\n",
    "from langchain.document_loaders import PyPDFLoader  # To load PDFs\n",
    "from langchain.text_splitter import RecursiveCharacterTextSplitter\n",
    "from langchain.docstore.document import Document\n",
    "\n",
    "# Initialize the embeddings model for vector search\n",
    "# You can use OpenAIEmbeddings, NomicEmbeddings, or others\n",
    "embedding_model = NomicEmbeddings(model=\"nomic-embed-text-v1.5\", inference_mode=\"local\")\n",
    "\n",
    "# Specify the directory where the Chroma vector data will be stored\n",
    "PERSIST_DIRECTORY = \"./persist_nov22_b\"  # Update with your desired directory\n",
    "\n",
    "# Initialize the Chroma vector store\n",
    "chroma_store = Chroma(\n",
    "    collection_name=\"NIST\", \n",
    "    embedding_function=embedding_model,\n",
    "    persist_directory=PERSIST_DIRECTORY  # Specify persistent directory\n",
    ")\n",
    "\n",
    "# Load the PDF file(s)\n",
    "pdf_file_path = \"NIST.SP.800-171r3.pdf\"  # Replace with your PDF file path\n",
    "\n",
    "# Use PyPDFLoader to extract the content from the PDF\n",
    "loader = PyPDFLoader(pdf_file_path)\n",
    "documents = loader.load()\n",
    "\n",
    "# Split the text into manageable chunks\n",
    "text_splitter = RecursiveCharacterTextSplitter(chunk_size=1000, chunk_overlap=200)\n",
    "texts = text_splitter.split_documents(documents)\n",
    "\n",
    "# Add the extracted texts (as Documents) to Chroma vector store\n",
    "chroma_store.add_documents(texts)\n",
    "\n",
    "# Persist the store to disk for future retrieval\n",
    "chroma_store.persist()\n",
    "\n",
    "print(\"PDF content successfully loaded into Chroma vector store.\")\n"
   ]
  },
  {
   "cell_type": "code",
   "execution_count": null,
   "id": "437fb8c9-3e1f-4aef-9452-ee404ffd839b",
   "metadata": {},
   "outputs": [],
   "source": []
  }
 ],
 "metadata": {
  "kernelspec": {
   "display_name": "Python 3 (ipykernel)",
   "language": "python",
   "name": "python3"
  },
  "language_info": {
   "codemirror_mode": {
    "name": "ipython",
    "version": 3
   },
   "file_extension": ".py",
   "mimetype": "text/x-python",
   "name": "python",
   "nbconvert_exporter": "python",
   "pygments_lexer": "ipython3",
   "version": "3.12.5"
  }
 },
 "nbformat": 4,
 "nbformat_minor": 5
}
