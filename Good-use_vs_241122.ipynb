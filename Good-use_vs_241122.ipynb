{
 "cells": [
  {
   "cell_type": "code",
   "execution_count": 11,
   "id": "b5ff0f0f-2e17-49d9-b7eb-14a5ab36e21f",
   "metadata": {},
   "outputs": [
    {
     "name": "stderr",
     "output_type": "stream",
     "text": [
      "C:\\Users\\srstuartii\\AppData\\Local\\Temp\\ipykernel_4876\\819380700.py:40: LangChainDeprecationWarning: The method `Chain.__call__` was deprecated in langchain 0.1.0 and will be removed in 1.0. Use :meth:`~invoke` instead.\n",
      "  result = qa(query)\n"
     ]
    },
    {
     "name": "stdout",
     "output_type": "stream",
     "text": [
      "\n",
      "\n",
      "\u001b[1m> Entering new RetrievalQA chain...\u001b[0m\n",
      "\n",
      "\u001b[1m> Finished chain.\u001b[0m\n",
      "{'query': 'Tell us about Spain?', 'result': \"Based on the text, here's what we can say about Spain:\\n\\n* In the 16th century, Spain claimed ownership of parts of America based on Pope Alexander's 1493 bull, but only where it had effectively occupied them.\\n* Spain recognized the Tropic of Cancer as a significant boundary in its American territories, using it to demarcate the areas it controlled from those it did not.\\n* The country was keenly interested in preserving its monopoly over trade and commerce with America, particularly when it came to its silver and gold fleets.\\n* From 1559 onwards, Spain took measures to eliminate French interlopers and corsairs operating below the Tropic of Cancer, seeing them as a threat to their interests.\\n* In terms of geography, Spain's primary concern was safeguarding its treasure fleets and preventing the establishment of hostile bases above the Tropic of Cancer.\\n\\nOverall, it seems that in this context, Spain was primarily focused on maintaining control over its American territories and trade routes, particularly through the use of the Tropic of Cancer as a boundary.\"}\n"
     ]
    }
   ],
   "source": [
    "import chromadb\n",
    "#from langchain.embeddings import SentenceTransformerEmbeddings\n",
    "from langchain_nomic.embeddings import NomicEmbeddings\n",
    "from langchain.vectorstores import Chroma\n",
    "from langchain.llms import Ollama\n",
    "from langchain.chains import RetrievalQA\n",
    "\n",
    "# Connect to the ChromaDB client\n",
    "client = chromadb.Client()  # Replace with your ChromaDB path\n",
    "\n",
    "# Create embeddings\n",
    "embedding_model = NomicEmbeddings(model=\"nomic-embed-text-v1.5\", inference_mode=\"local\")\n",
    "\n",
    "# Load the Chroma collection\n",
    "collection_name = \"America\"\n",
    "\n",
    "# Specify the directory where the Chroma vector data is stored\n",
    "PERSIST_DIRECTORY = \"./persist_nov_22_b\"  # Update with your directory path\n",
    "\n",
    "# Connect to your Chroma database (vector store) with persistence\n",
    "vectorstore = Chroma(\n",
    "    collection_name=collection_name, \n",
    "    embedding_function=embedding_model,\n",
    "    persist_directory=PERSIST_DIRECTORY  # Specify persistent directory\n",
    ")\n",
    "\n",
    "# Create the LLM\n",
    "llm = Ollama(model=\"llama3.1\")\n",
    "\n",
    "# Create the QA chain\n",
    "qa = RetrievalQA.from_chain_type(\n",
    "    llm=llm,\n",
    "    retriever=vectorstore.as_retriever(), \n",
    "#    chain_type_kwargs={\"prompt\": prompt},\n",
    "    verbose=True\n",
    ")\n",
    "\n",
    "# Ask a question\n",
    "query = \"Tell us about Spain?\"\n",
    "result = qa(query)\n",
    "print(result)\n",
    "\n",
    "# question = \"What are the approaches to Task Decomposition?\"\n",
    "# result = qa_chain({\"query\": question})\n",
    "# result[\"result\"]"
   ]
  },
  {
   "cell_type": "code",
   "execution_count": null,
   "id": "ae9bfeb3-41f7-4487-83d4-6138b91b76f5",
   "metadata": {},
   "outputs": [],
   "source": []
  }
 ],
 "metadata": {
  "kernelspec": {
   "display_name": "Python 3 (ipykernel)",
   "language": "python",
   "name": "python3"
  },
  "language_info": {
   "codemirror_mode": {
    "name": "ipython",
    "version": 3
   },
   "file_extension": ".py",
   "mimetype": "text/x-python",
   "name": "python",
   "nbconvert_exporter": "python",
   "pygments_lexer": "ipython3",
   "version": "3.12.5"
  }
 },
 "nbformat": 4,
 "nbformat_minor": 5
}
